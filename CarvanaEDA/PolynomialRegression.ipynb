{
 "cells": [
  {
   "cell_type": "code",
   "execution_count": 236,
   "metadata": {},
   "outputs": [],
   "source": [
    "import pandas as pd\n",
    "import numpy as np\n",
    "import matplotlib.pyplot as plt\n",
    "from sklearn.model_selection import train_test_split\n",
    "from sklearn.preprocessing import PolynomialFeatures\n",
    "from sklearn.decomposition import PCA\n",
    "plt.style.use('default')"
   ]
  },
  {
   "cell_type": "code",
   "execution_count": 237,
   "metadata": {},
   "outputs": [],
   "source": [
    "df = pd.read_csv('../data/CarvanaEncoded.csv')"
   ]
  },
  {
   "cell_type": "code",
   "execution_count": 238,
   "metadata": {},
   "outputs": [],
   "source": [
    "df.drop(['details_cat', '3-Cyl', '4-Cyl', '6-Cyl',\n",
    "        'V6', 'V8'], axis=1, inplace=True)\n"
   ]
  },
  {
   "cell_type": "code",
   "execution_count": 239,
   "metadata": {},
   "outputs": [],
   "source": [
    "test_rows = df[-20: ]\n",
    "df = df[:-20]"
   ]
  },
  {
   "cell_type": "code",
   "execution_count": 240,
   "metadata": {},
   "outputs": [],
   "source": [
    "X = df.drop('price', axis=1)\n",
    "y = df.price\n",
    "final_X = test_rows.drop('price', axis=1)\n",
    "final_Y = test_rows.price"
   ]
  },
  {
   "cell_type": "code",
   "execution_count": 241,
   "metadata": {},
   "outputs": [],
   "source": [
    "poly = PolynomialFeatures(degree=2, include_bias=False)"
   ]
  },
  {
   "cell_type": "code",
   "execution_count": 242,
   "metadata": {},
   "outputs": [],
   "source": [
    "poly_x = poly.fit_transform(X)\n",
    "final_poly_x = poly.fit_transform(final_X)"
   ]
  },
  {
   "cell_type": "code",
   "execution_count": 243,
   "metadata": {},
   "outputs": [],
   "source": [
    "X_train, X_test, y_train, y_test = train_test_split(poly_x, y, test_size=0.33, random_state=42)\n"
   ]
  },
  {
   "cell_type": "code",
   "execution_count": 244,
   "metadata": {},
   "outputs": [],
   "source": [
    "from sklearn.linear_model import LinearRegression"
   ]
  },
  {
   "cell_type": "code",
   "execution_count": 245,
   "metadata": {},
   "outputs": [],
   "source": [
    "poly_reg_model = LinearRegression()"
   ]
  },
  {
   "cell_type": "code",
   "execution_count": 246,
   "metadata": {},
   "outputs": [
    {
     "data": {
      "text/plain": [
       "LinearRegression()"
      ]
     },
     "execution_count": 246,
     "metadata": {},
     "output_type": "execute_result"
    }
   ],
   "source": [
    "poly_reg_model.fit(X_train, y_train)"
   ]
  },
  {
   "cell_type": "code",
   "execution_count": 247,
   "metadata": {},
   "outputs": [],
   "source": [
    "preds = poly_reg_model.predict(X_test)"
   ]
  },
  {
   "cell_type": "code",
   "execution_count": 248,
   "metadata": {},
   "outputs": [],
   "source": [
    "from sklearn.metrics import mean_squared_error, mean_absolute_error"
   ]
  },
  {
   "cell_type": "code",
   "execution_count": 249,
   "metadata": {},
   "outputs": [],
   "source": [
    "RMSE = np.sqrt(mean_absolute_error(y_test, preds))"
   ]
  },
  {
   "cell_type": "code",
   "execution_count": 250,
   "metadata": {},
   "outputs": [
    {
     "data": {
      "text/plain": [
       "64.10174483592903"
      ]
     },
     "execution_count": 250,
     "metadata": {},
     "output_type": "execute_result"
    }
   ],
   "source": [
    "RMSE"
   ]
  },
  {
   "cell_type": "code",
   "execution_count": 251,
   "metadata": {},
   "outputs": [],
   "source": [
    "final_preds = poly_reg_model.predict(final_poly_x)"
   ]
  },
  {
   "cell_type": "code",
   "execution_count": 252,
   "metadata": {},
   "outputs": [],
   "source": [
    "final_RMSE = np.sqrt(mean_squared_error(final_Y, final_preds))"
   ]
  },
  {
   "cell_type": "code",
   "execution_count": 253,
   "metadata": {},
   "outputs": [
    {
     "data": {
      "text/plain": [
       "6557.995082356488"
      ]
     },
     "execution_count": 253,
     "metadata": {},
     "output_type": "execute_result"
    }
   ],
   "source": [
    "final_RMSE"
   ]
  },
  {
   "cell_type": "code",
   "execution_count": 254,
   "metadata": {},
   "outputs": [
    {
     "name": "stdout",
     "output_type": "stream",
     "text": [
      "For an actual price of $17990 the model predicted $23045\n",
      "The difference for this prediction is:  -5054.602453142405\n",
      "-------\n",
      "-------\n",
      "For an actual price of $22990 the model predicted $26953\n",
      "The difference for this prediction is:  -3962.823585420847\n",
      "-------\n",
      "-------\n",
      "For an actual price of $34590 the model predicted $34590\n",
      "The difference for this prediction is:  0.11823481321334839\n",
      "-------\n",
      "-------\n",
      "For an actual price of $34590 the model predicted $34554\n",
      "The difference for this prediction is:  36.21627974510193\n",
      "-------\n",
      "-------\n",
      "For an actual price of $19990 the model predicted $21648\n",
      "The difference for this prediction is:  -1657.6223226189613\n",
      "-------\n",
      "-------\n",
      "For an actual price of $26990 the model predicted $28749\n",
      "The difference for this prediction is:  -1758.628092944622\n",
      "-------\n",
      "-------\n",
      "For an actual price of $16990 the model predicted $14283\n",
      "The difference for this prediction is:  2706.5843357145786\n",
      "-------\n",
      "-------\n",
      "For an actual price of $16990 the model predicted $18355\n",
      "The difference for this prediction is:  -1365.2153278589249\n",
      "-------\n",
      "-------\n",
      "For an actual price of $17990 the model predicted $23178\n",
      "The difference for this prediction is:  -5187.849023759365\n",
      "-------\n",
      "-------\n",
      "For an actual price of $34990 the model predicted $27851\n",
      "The difference for this prediction is:  7138.9544197022915\n",
      "-------\n",
      "-------\n",
      "For an actual price of $42990 the model predicted $27637\n",
      "The difference for this prediction is:  15353.341983348131\n",
      "-------\n",
      "-------\n",
      "For an actual price of $17590 the model predicted $15222\n",
      "The difference for this prediction is:  2367.836327970028\n",
      "-------\n",
      "-------\n",
      "For an actual price of $26990 the model predicted $24543\n",
      "The difference for this prediction is:  2446.759595900774\n",
      "-------\n",
      "-------\n",
      "For an actual price of $43990 the model predicted $27186\n",
      "The difference for this prediction is:  16804.18967372179\n",
      "-------\n",
      "-------\n",
      "For an actual price of $29590 the model predicted $23704\n",
      "The difference for this prediction is:  5886.406799644232\n",
      "-------\n",
      "-------\n",
      "For an actual price of $14990 the model predicted $14006\n",
      "The difference for this prediction is:  983.6829334497452\n",
      "-------\n",
      "-------\n",
      "For an actual price of $52990 the model predicted $42055\n",
      "The difference for this prediction is:  10934.702790349722\n",
      "-------\n",
      "-------\n",
      "For an actual price of $20590 the model predicted $19398\n",
      "The difference for this prediction is:  1192.2262564897537\n",
      "-------\n",
      "-------\n",
      "For an actual price of $31590 the model predicted $25416\n",
      "The difference for this prediction is:  6174.055993556976\n",
      "-------\n",
      "-------\n",
      "For an actual price of $22990 the model predicted $21742\n",
      "The difference for this prediction is:  1248.4641008973122\n",
      "-------\n",
      "-------\n"
     ]
    }
   ],
   "source": [
    "for i in range(len(final_poly_x)):\n",
    "    predicted_price = round(final_preds[i])\n",
    "    print(\n",
    "        f\"For an actual price of ${test_rows['price'].iloc[i]} the model predicted ${predicted_price}\")\n",
    "    print(\"The difference for this prediction is: \",\n",
    "          test_rows.price.iloc[i] - final_preds[i])\n",
    "    print(\"-------\")\n",
    "    print(\"-------\")\n"
   ]
  },
  {
   "cell_type": "code",
   "execution_count": null,
   "metadata": {},
   "outputs": [],
   "source": []
  }
 ],
 "metadata": {
  "interpreter": {
   "hash": "16bcd77ee17822948c62f8c3176b0dd92601d62e1f6d4f4596c9af9d67dbd39e"
  },
  "kernelspec": {
   "display_name": "Python 3.10.2 ('venv': venv)",
   "language": "python",
   "name": "python3"
  },
  "language_info": {
   "codemirror_mode": {
    "name": "ipython",
    "version": 3
   },
   "file_extension": ".py",
   "mimetype": "text/x-python",
   "name": "python",
   "nbconvert_exporter": "python",
   "pygments_lexer": "ipython3",
   "version": "3.10.2"
  },
  "orig_nbformat": 4
 },
 "nbformat": 4,
 "nbformat_minor": 2
}
