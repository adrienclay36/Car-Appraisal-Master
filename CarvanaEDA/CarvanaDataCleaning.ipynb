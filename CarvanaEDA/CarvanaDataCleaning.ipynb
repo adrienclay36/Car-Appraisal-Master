{
 "cells": [
  {
   "cell_type": "code",
   "execution_count": 2,
   "metadata": {},
   "outputs": [],
   "source": [
    "import pandas as pd\n",
    "import numpy as np\n",
    "import matplotlib.pyplot as plt\n",
    "import os"
   ]
  },
  {
   "cell_type": "markdown",
   "metadata": {},
   "source": [
    "This is our master data file that has most of the data points thus far, and all remaining CSV's will be incorporated into this one:"
   ]
  },
  {
   "cell_type": "code",
   "execution_count": 3,
   "metadata": {},
   "outputs": [],
   "source": [
    "df = pd.read_csv(\"CarvanaMasterData.csv\")"
   ]
  },
  {
   "cell_type": "code",
   "execution_count": 4,
   "metadata": {},
   "outputs": [
    {
     "data": {
      "text/html": [
       "<div>\n",
       "<style scoped>\n",
       "    .dataframe tbody tr th:only-of-type {\n",
       "        vertical-align: middle;\n",
       "    }\n",
       "\n",
       "    .dataframe tbody tr th {\n",
       "        vertical-align: top;\n",
       "    }\n",
       "\n",
       "    .dataframe thead th {\n",
       "        text-align: right;\n",
       "    }\n",
       "</style>\n",
       "<table border=\"1\" class=\"dataframe\">\n",
       "  <thead>\n",
       "    <tr style=\"text-align: right;\">\n",
       "      <th></th>\n",
       "      <th>Unnamed: 0</th>\n",
       "      <th>year_make</th>\n",
       "      <th>model</th>\n",
       "      <th>details</th>\n",
       "      <th>mileage</th>\n",
       "      <th>Bluetooth</th>\n",
       "      <th>Backup Camera</th>\n",
       "      <th>Infotainment</th>\n",
       "      <th>Screen</th>\n",
       "      <th>Navigation</th>\n",
       "      <th>...</th>\n",
       "      <th>4-Cyl</th>\n",
       "      <th>3-Cyl</th>\n",
       "      <th>V6</th>\n",
       "      <th>V8</th>\n",
       "      <th>6-Cyl</th>\n",
       "      <th>city_mpg</th>\n",
       "      <th>highway_mpg</th>\n",
       "      <th>No Reported Accidents</th>\n",
       "      <th>price</th>\n",
       "      <th>url</th>\n",
       "    </tr>\n",
       "  </thead>\n",
       "  <tbody>\n",
       "    <tr>\n",
       "      <th>0</th>\n",
       "      <td>0</td>\n",
       "      <td>2016 Nissan</td>\n",
       "      <td>Altima</td>\n",
       "      <td>2.5 SR</td>\n",
       "      <td>57,543 miles</td>\n",
       "      <td>1</td>\n",
       "      <td>1</td>\n",
       "      <td>1</td>\n",
       "      <td>0</td>\n",
       "      <td>0</td>\n",
       "      <td>...</td>\n",
       "      <td>1</td>\n",
       "      <td>0</td>\n",
       "      <td>0</td>\n",
       "      <td>0</td>\n",
       "      <td>0</td>\n",
       "      <td>26 City</td>\n",
       "      <td>37 Hwy</td>\n",
       "      <td>1</td>\n",
       "      <td>$19,990</td>\n",
       "      <td>https://www.carvana.com/vehicle/2080019</td>\n",
       "    </tr>\n",
       "    <tr>\n",
       "      <th>1</th>\n",
       "      <td>1</td>\n",
       "      <td>2011 Honda</td>\n",
       "      <td>Civic</td>\n",
       "      <td>LX</td>\n",
       "      <td>51,210 miles</td>\n",
       "      <td>0</td>\n",
       "      <td>0</td>\n",
       "      <td>1</td>\n",
       "      <td>0</td>\n",
       "      <td>0</td>\n",
       "      <td>...</td>\n",
       "      <td>1</td>\n",
       "      <td>0</td>\n",
       "      <td>0</td>\n",
       "      <td>0</td>\n",
       "      <td>0</td>\n",
       "      <td>25 City</td>\n",
       "      <td>36 Hwy</td>\n",
       "      <td>1</td>\n",
       "      <td>$16,990</td>\n",
       "      <td>https://www.carvana.com/vehicle/2113974</td>\n",
       "    </tr>\n",
       "  </tbody>\n",
       "</table>\n",
       "<p>2 rows × 26 columns</p>\n",
       "</div>"
      ],
      "text/plain": [
       "   Unnamed: 0    year_make   model details       mileage  Bluetooth  \\\n",
       "0           0  2016 Nissan  Altima  2.5 SR  57,543 miles          1   \n",
       "1           1   2011 Honda   Civic      LX  51,210 miles          0   \n",
       "\n",
       "   Backup Camera  Infotainment  Screen  Navigation  ...  4-Cyl  3-Cyl  V6  V8  \\\n",
       "0              1             1       0           0  ...      1      0   0   0   \n",
       "1              0             1       0           0  ...      1      0   0   0   \n",
       "\n",
       "   6-Cyl  city_mpg  highway_mpg  No Reported Accidents    price  \\\n",
       "0      0   26 City       37 Hwy                      1  $19,990   \n",
       "1      0   25 City       36 Hwy                      1  $16,990   \n",
       "\n",
       "                                       url  \n",
       "0  https://www.carvana.com/vehicle/2080019  \n",
       "1  https://www.carvana.com/vehicle/2113974  \n",
       "\n",
       "[2 rows x 26 columns]"
      ]
     },
     "execution_count": 4,
     "metadata": {},
     "output_type": "execute_result"
    }
   ],
   "source": [
    "df.head(2)"
   ]
  },
  {
   "cell_type": "markdown",
   "metadata": {},
   "source": [
    "First things first, drop any duplicates in the master CSV:"
   ]
  },
  {
   "cell_type": "code",
   "execution_count": 5,
   "metadata": {},
   "outputs": [
    {
     "data": {
      "text/plain": [
       "1470"
      ]
     },
     "execution_count": 5,
     "metadata": {},
     "output_type": "execute_result"
    }
   ],
   "source": [
    "len(df[df.duplicated('url')])"
   ]
  },
  {
   "cell_type": "code",
   "execution_count": 6,
   "metadata": {},
   "outputs": [],
   "source": [
    "df.drop_duplicates('url', inplace=True)"
   ]
  },
  {
   "cell_type": "code",
   "execution_count": 7,
   "metadata": {},
   "outputs": [
    {
     "data": {
      "text/plain": [
       "3722"
      ]
     },
     "execution_count": 7,
     "metadata": {},
     "output_type": "execute_result"
    }
   ],
   "source": [
    "len(df)"
   ]
  },
  {
   "cell_type": "code",
   "execution_count": 8,
   "metadata": {},
   "outputs": [],
   "source": [
    "df_list = []\n",
    "file_names = ['Carvana2009Only.csv',\n",
    "            'Carvana2010Only.csv',\n",
    "            'Carvana2011Only.csv',\n",
    "            'Carvana2012Only.csv',\n",
    "            'Carvana2013Only.csv',\n",
    "            'Carvana20092014.csv']\n",
    "\n",
    "for file in file_names:\n",
    "    df_by_year = pd.read_csv(file)\n",
    "    df_list.append(df_by_year)"
   ]
  },
  {
   "cell_type": "markdown",
   "metadata": {},
   "source": [
    "The data should have the same columns across all CSV's but we should set up a check to be sure"
   ]
  },
  {
   "cell_type": "code",
   "execution_count": 9,
   "metadata": {},
   "outputs": [],
   "source": [
    "def check_columns(df1, df2):\n",
    "    for i in range(len(df1.columns)):\n",
    "        if df1.columns[i] != df2.columns[i]:\n",
    "            print(\"Columns out of order at: \" + str(df1.columns[i]) + \", \" + df2.columns[i])\n",
    "            return False\n",
    "\n",
    "    if len(df1.columns) != len(df2.columns):\n",
    "        print(f\"Column count differs, {len(df1.columns)} vs {len(df2.columns)}\")\n",
    "        return False\n",
    "    \n",
    "    print(\"Columns equivalent\")\n",
    "    return True;"
   ]
  },
  {
   "cell_type": "code",
   "execution_count": 10,
   "metadata": {},
   "outputs": [
    {
     "name": "stdout",
     "output_type": "stream",
     "text": [
      "Columns equivalent\n",
      "Columns equivalent\n",
      "Columns equivalent\n",
      "Columns equivalent\n",
      "Columns equivalent\n",
      "Columns equivalent\n"
     ]
    }
   ],
   "source": [
    "for df_other in df_list:\n",
    "    check_columns(df, df_other)"
   ]
  },
  {
   "cell_type": "code",
   "execution_count": 11,
   "metadata": {},
   "outputs": [],
   "source": [
    "df_copy = df.copy()"
   ]
  },
  {
   "cell_type": "code",
   "execution_count": 12,
   "metadata": {},
   "outputs": [],
   "source": [
    "columns_added = 0\n",
    "for df_other in df_list:\n",
    "    columns_added += len(df_other)"
   ]
  },
  {
   "cell_type": "code",
   "execution_count": 13,
   "metadata": {},
   "outputs": [
    {
     "data": {
      "text/plain": [
       "5714"
      ]
     },
     "execution_count": 13,
     "metadata": {},
     "output_type": "execute_result"
    }
   ],
   "source": [
    "# Total columns we can expect to be added to the master dataframe\n",
    "columns_added"
   ]
  },
  {
   "cell_type": "code",
   "execution_count": 14,
   "metadata": {},
   "outputs": [
    {
     "data": {
      "text/plain": [
       "9436"
      ]
     },
     "execution_count": 14,
     "metadata": {},
     "output_type": "execute_result"
    }
   ],
   "source": [
    "# This is what the resulting length should be after concatentation\n",
    "len(df) + columns_added"
   ]
  },
  {
   "cell_type": "code",
   "execution_count": 15,
   "metadata": {},
   "outputs": [],
   "source": [
    "# Concatenate the dataframes to the master df\n",
    "for df1 in df_list:\n",
    "    df_copy = pd.concat([df_copy, df1])"
   ]
  },
  {
   "cell_type": "code",
   "execution_count": 16,
   "metadata": {},
   "outputs": [
    {
     "data": {
      "text/plain": [
       "True"
      ]
     },
     "execution_count": 16,
     "metadata": {},
     "output_type": "execute_result"
    }
   ],
   "source": [
    "len(df_copy) == (len(df) + columns_added)"
   ]
  },
  {
   "cell_type": "markdown",
   "metadata": {},
   "source": [
    "Success, we can now drop duplicates and clean up the data"
   ]
  },
  {
   "cell_type": "code",
   "execution_count": 17,
   "metadata": {},
   "outputs": [],
   "source": [
    "df_copy.drop_duplicates('url', inplace=True)"
   ]
  },
  {
   "cell_type": "code",
   "execution_count": 18,
   "metadata": {},
   "outputs": [
    {
     "data": {
      "text/plain": [
       "7294"
      ]
     },
     "execution_count": 18,
     "metadata": {},
     "output_type": "execute_result"
    }
   ],
   "source": [
    "len(df_copy)"
   ]
  },
  {
   "cell_type": "code",
   "execution_count": 19,
   "metadata": {},
   "outputs": [
    {
     "data": {
      "text/html": [
       "<div>\n",
       "<style scoped>\n",
       "    .dataframe tbody tr th:only-of-type {\n",
       "        vertical-align: middle;\n",
       "    }\n",
       "\n",
       "    .dataframe tbody tr th {\n",
       "        vertical-align: top;\n",
       "    }\n",
       "\n",
       "    .dataframe thead th {\n",
       "        text-align: right;\n",
       "    }\n",
       "</style>\n",
       "<table border=\"1\" class=\"dataframe\">\n",
       "  <thead>\n",
       "    <tr style=\"text-align: right;\">\n",
       "      <th></th>\n",
       "      <th>Unnamed: 0</th>\n",
       "      <th>year_make</th>\n",
       "      <th>model</th>\n",
       "      <th>details</th>\n",
       "      <th>mileage</th>\n",
       "      <th>Bluetooth</th>\n",
       "      <th>Backup Camera</th>\n",
       "      <th>Infotainment</th>\n",
       "      <th>Screen</th>\n",
       "      <th>Navigation</th>\n",
       "      <th>...</th>\n",
       "      <th>4-Cyl</th>\n",
       "      <th>3-Cyl</th>\n",
       "      <th>V6</th>\n",
       "      <th>V8</th>\n",
       "      <th>6-Cyl</th>\n",
       "      <th>city_mpg</th>\n",
       "      <th>highway_mpg</th>\n",
       "      <th>No Reported Accidents</th>\n",
       "      <th>price</th>\n",
       "      <th>url</th>\n",
       "    </tr>\n",
       "  </thead>\n",
       "  <tbody>\n",
       "  </tbody>\n",
       "</table>\n",
       "<p>0 rows × 26 columns</p>\n",
       "</div>"
      ],
      "text/plain": [
       "Empty DataFrame\n",
       "Columns: [Unnamed: 0, year_make, model, details, mileage, Bluetooth, Backup Camera, Infotainment, Screen, Navigation, Hands Free Calling, Heated Seats, Power Seat Controls, Rear Air Vents, Bed Liner, Tow Hitch, 4-Cyl, 3-Cyl, V6, V8, 6-Cyl, city_mpg, highway_mpg, No Reported Accidents, price, url]\n",
       "Index: []\n",
       "\n",
       "[0 rows x 26 columns]"
      ]
     },
     "execution_count": 19,
     "metadata": {},
     "output_type": "execute_result"
    }
   ],
   "source": [
    "df_copy[df_copy.duplicated('url')]"
   ]
  },
  {
   "cell_type": "code",
   "execution_count": 20,
   "metadata": {},
   "outputs": [
    {
     "data": {
      "text/plain": [
       "(7294, 26)"
      ]
     },
     "execution_count": 20,
     "metadata": {},
     "output_type": "execute_result"
    }
   ],
   "source": [
    "df_copy.shape"
   ]
  },
  {
   "cell_type": "code",
   "execution_count": 21,
   "metadata": {},
   "outputs": [
    {
     "name": "stdout",
     "output_type": "stream",
     "text": [
      "<class 'pandas.core.frame.DataFrame'>\n",
      "Int64Index: 7294 entries, 0 to 1978\n",
      "Data columns (total 26 columns):\n",
      " #   Column                 Non-Null Count  Dtype \n",
      "---  ------                 --------------  ----- \n",
      " 0   Unnamed: 0             7294 non-null   int64 \n",
      " 1   year_make              7294 non-null   object\n",
      " 2   model                  7294 non-null   object\n",
      " 3   details                7294 non-null   object\n",
      " 4   mileage                7294 non-null   object\n",
      " 5   Bluetooth              7294 non-null   int64 \n",
      " 6   Backup Camera          7294 non-null   int64 \n",
      " 7   Infotainment           7294 non-null   int64 \n",
      " 8   Screen                 7294 non-null   int64 \n",
      " 9   Navigation             7294 non-null   int64 \n",
      " 10  Hands Free Calling     7294 non-null   int64 \n",
      " 11  Heated Seats           7294 non-null   int64 \n",
      " 12  Power Seat Controls    7294 non-null   int64 \n",
      " 13  Rear Air Vents         7294 non-null   int64 \n",
      " 14  Bed Liner              7294 non-null   int64 \n",
      " 15  Tow Hitch              7294 non-null   int64 \n",
      " 16  4-Cyl                  7294 non-null   int64 \n",
      " 17  3-Cyl                  7294 non-null   int64 \n",
      " 18  V6                     7294 non-null   int64 \n",
      " 19  V8                     7294 non-null   int64 \n",
      " 20  6-Cyl                  7294 non-null   int64 \n",
      " 21  city_mpg               7294 non-null   object\n",
      " 22  highway_mpg            7294 non-null   object\n",
      " 23  No Reported Accidents  7294 non-null   int64 \n",
      " 24  price                  7294 non-null   object\n",
      " 25  url                    7294 non-null   object\n",
      "dtypes: int64(18), object(8)\n",
      "memory usage: 1.5+ MB\n"
     ]
    }
   ],
   "source": [
    "df_copy.info()"
   ]
  },
  {
   "cell_type": "code",
   "execution_count": 22,
   "metadata": {},
   "outputs": [
    {
     "data": {
      "text/plain": [
       "Unnamed: 0               0\n",
       "year_make                0\n",
       "model                    0\n",
       "details                  0\n",
       "mileage                  0\n",
       "Bluetooth                0\n",
       "Backup Camera            0\n",
       "Infotainment             0\n",
       "Screen                   0\n",
       "Navigation               0\n",
       "Hands Free Calling       0\n",
       "Heated Seats             0\n",
       "Power Seat Controls      0\n",
       "Rear Air Vents           0\n",
       "Bed Liner                0\n",
       "Tow Hitch                0\n",
       "4-Cyl                    0\n",
       "3-Cyl                    0\n",
       "V6                       0\n",
       "V8                       0\n",
       "6-Cyl                    0\n",
       "city_mpg                 0\n",
       "highway_mpg              0\n",
       "No Reported Accidents    0\n",
       "price                    0\n",
       "url                      0\n",
       "dtype: int64"
      ]
     },
     "execution_count": 22,
     "metadata": {},
     "output_type": "execute_result"
    }
   ],
   "source": [
    "df_copy.isnull().sum()"
   ]
  },
  {
   "cell_type": "markdown",
   "metadata": {},
   "source": [
    "Beautiful, there are a few things we need to clean up.\n",
    "\n",
    "First one will be splitting \"year_make\" up into their own columns, \"year\" and \"make\""
   ]
  },
  {
   "cell_type": "code",
   "execution_count": 23,
   "metadata": {},
   "outputs": [],
   "source": [
    "df = df_copy.copy() # Turn it back into \"df\" to make typing it quicker everytime"
   ]
  },
  {
   "cell_type": "code",
   "execution_count": 24,
   "metadata": {},
   "outputs": [],
   "source": [
    "df['year'] = df['year_make'].apply(lambda x: int(x.split(' ')[0]))\n",
    "df['make'] = df['year_make'].apply(lambda x: x.split(' ')[1])"
   ]
  },
  {
   "cell_type": "code",
   "execution_count": 25,
   "metadata": {},
   "outputs": [],
   "source": [
    "df.drop('year_make', inplace=True, axis=1)"
   ]
  },
  {
   "cell_type": "code",
   "execution_count": 26,
   "metadata": {},
   "outputs": [
    {
     "data": {
      "text/html": [
       "<div>\n",
       "<style scoped>\n",
       "    .dataframe tbody tr th:only-of-type {\n",
       "        vertical-align: middle;\n",
       "    }\n",
       "\n",
       "    .dataframe tbody tr th {\n",
       "        vertical-align: top;\n",
       "    }\n",
       "\n",
       "    .dataframe thead th {\n",
       "        text-align: right;\n",
       "    }\n",
       "</style>\n",
       "<table border=\"1\" class=\"dataframe\">\n",
       "  <thead>\n",
       "    <tr style=\"text-align: right;\">\n",
       "      <th></th>\n",
       "      <th>Unnamed: 0</th>\n",
       "      <th>model</th>\n",
       "      <th>details</th>\n",
       "      <th>mileage</th>\n",
       "      <th>Bluetooth</th>\n",
       "      <th>Backup Camera</th>\n",
       "      <th>Infotainment</th>\n",
       "      <th>Screen</th>\n",
       "      <th>Navigation</th>\n",
       "      <th>Hands Free Calling</th>\n",
       "      <th>...</th>\n",
       "      <th>V6</th>\n",
       "      <th>V8</th>\n",
       "      <th>6-Cyl</th>\n",
       "      <th>city_mpg</th>\n",
       "      <th>highway_mpg</th>\n",
       "      <th>No Reported Accidents</th>\n",
       "      <th>price</th>\n",
       "      <th>url</th>\n",
       "      <th>year</th>\n",
       "      <th>make</th>\n",
       "    </tr>\n",
       "  </thead>\n",
       "  <tbody>\n",
       "    <tr>\n",
       "      <th>0</th>\n",
       "      <td>0</td>\n",
       "      <td>Altima</td>\n",
       "      <td>2.5 SR</td>\n",
       "      <td>57,543 miles</td>\n",
       "      <td>1</td>\n",
       "      <td>1</td>\n",
       "      <td>1</td>\n",
       "      <td>0</td>\n",
       "      <td>0</td>\n",
       "      <td>1</td>\n",
       "      <td>...</td>\n",
       "      <td>0</td>\n",
       "      <td>0</td>\n",
       "      <td>0</td>\n",
       "      <td>26 City</td>\n",
       "      <td>37 Hwy</td>\n",
       "      <td>1</td>\n",
       "      <td>$19,990</td>\n",
       "      <td>https://www.carvana.com/vehicle/2080019</td>\n",
       "      <td>2016</td>\n",
       "      <td>Nissan</td>\n",
       "    </tr>\n",
       "    <tr>\n",
       "      <th>1</th>\n",
       "      <td>1</td>\n",
       "      <td>Civic</td>\n",
       "      <td>LX</td>\n",
       "      <td>51,210 miles</td>\n",
       "      <td>0</td>\n",
       "      <td>0</td>\n",
       "      <td>1</td>\n",
       "      <td>0</td>\n",
       "      <td>0</td>\n",
       "      <td>0</td>\n",
       "      <td>...</td>\n",
       "      <td>0</td>\n",
       "      <td>0</td>\n",
       "      <td>0</td>\n",
       "      <td>25 City</td>\n",
       "      <td>36 Hwy</td>\n",
       "      <td>1</td>\n",
       "      <td>$16,990</td>\n",
       "      <td>https://www.carvana.com/vehicle/2113974</td>\n",
       "      <td>2011</td>\n",
       "      <td>Honda</td>\n",
       "    </tr>\n",
       "  </tbody>\n",
       "</table>\n",
       "<p>2 rows × 27 columns</p>\n",
       "</div>"
      ],
      "text/plain": [
       "   Unnamed: 0   model details       mileage  Bluetooth  Backup Camera  \\\n",
       "0           0  Altima  2.5 SR  57,543 miles          1              1   \n",
       "1           1   Civic      LX  51,210 miles          0              0   \n",
       "\n",
       "   Infotainment  Screen  Navigation  Hands Free Calling  ...  V6  V8  6-Cyl  \\\n",
       "0             1       0           0                   1  ...   0   0      0   \n",
       "1             1       0           0                   0  ...   0   0      0   \n",
       "\n",
       "   city_mpg  highway_mpg  No Reported Accidents    price  \\\n",
       "0   26 City       37 Hwy                      1  $19,990   \n",
       "1   25 City       36 Hwy                      1  $16,990   \n",
       "\n",
       "                                       url  year    make  \n",
       "0  https://www.carvana.com/vehicle/2080019  2016  Nissan  \n",
       "1  https://www.carvana.com/vehicle/2113974  2011   Honda  \n",
       "\n",
       "[2 rows x 27 columns]"
      ]
     },
     "execution_count": 26,
     "metadata": {},
     "output_type": "execute_result"
    }
   ],
   "source": [
    "df.head(2)"
   ]
  },
  {
   "cell_type": "markdown",
   "metadata": {},
   "source": [
    "We can now clean up the mileage column to be an integer and remove all punctuation and text such as \"miles\""
   ]
  },
  {
   "cell_type": "code",
   "execution_count": 27,
   "metadata": {},
   "outputs": [],
   "source": [
    "df['mileage'] = df.mileage.apply(lambda x: x.replace(',', ''))\n",
    "df['mileage'] = df.mileage.apply(lambda x: int(x.split(' ')[0]))"
   ]
  },
  {
   "cell_type": "code",
   "execution_count": 28,
   "metadata": {},
   "outputs": [
    {
     "data": {
      "text/plain": [
       "dtype('int64')"
      ]
     },
     "execution_count": 28,
     "metadata": {},
     "output_type": "execute_result"
    }
   ],
   "source": [
    "df.mileage.dtype"
   ]
  },
  {
   "cell_type": "markdown",
   "metadata": {},
   "source": [
    "We can remove \"City\" and \"Hwy\" from city_mpg and highway_mpg"
   ]
  },
  {
   "cell_type": "code",
   "execution_count": 29,
   "metadata": {},
   "outputs": [],
   "source": [
    "df['city_mpg'] = df.city_mpg.apply(lambda x: int(x.split(' ')[0]))\n",
    "df['highway_mpg'] = df.highway_mpg.apply(lambda x: int(x.split(' ')[0]))\n"
   ]
  },
  {
   "cell_type": "code",
   "execution_count": 30,
   "metadata": {},
   "outputs": [
    {
     "name": "stdout",
     "output_type": "stream",
     "text": [
      "int64\n",
      "int64\n"
     ]
    }
   ],
   "source": [
    "print(df.city_mpg.dtype)\n",
    "print(df.highway_mpg.dtype)"
   ]
  },
  {
   "cell_type": "code",
   "execution_count": 31,
   "metadata": {},
   "outputs": [
    {
     "data": {
      "text/html": [
       "<div>\n",
       "<style scoped>\n",
       "    .dataframe tbody tr th:only-of-type {\n",
       "        vertical-align: middle;\n",
       "    }\n",
       "\n",
       "    .dataframe tbody tr th {\n",
       "        vertical-align: top;\n",
       "    }\n",
       "\n",
       "    .dataframe thead th {\n",
       "        text-align: right;\n",
       "    }\n",
       "</style>\n",
       "<table border=\"1\" class=\"dataframe\">\n",
       "  <thead>\n",
       "    <tr style=\"text-align: right;\">\n",
       "      <th></th>\n",
       "      <th>Unnamed: 0</th>\n",
       "      <th>model</th>\n",
       "      <th>details</th>\n",
       "      <th>mileage</th>\n",
       "      <th>Bluetooth</th>\n",
       "      <th>Backup Camera</th>\n",
       "      <th>Infotainment</th>\n",
       "      <th>Screen</th>\n",
       "      <th>Navigation</th>\n",
       "      <th>Hands Free Calling</th>\n",
       "      <th>...</th>\n",
       "      <th>V6</th>\n",
       "      <th>V8</th>\n",
       "      <th>6-Cyl</th>\n",
       "      <th>city_mpg</th>\n",
       "      <th>highway_mpg</th>\n",
       "      <th>No Reported Accidents</th>\n",
       "      <th>price</th>\n",
       "      <th>url</th>\n",
       "      <th>year</th>\n",
       "      <th>make</th>\n",
       "    </tr>\n",
       "  </thead>\n",
       "  <tbody>\n",
       "    <tr>\n",
       "      <th>0</th>\n",
       "      <td>0</td>\n",
       "      <td>Altima</td>\n",
       "      <td>2.5 SR</td>\n",
       "      <td>57543</td>\n",
       "      <td>1</td>\n",
       "      <td>1</td>\n",
       "      <td>1</td>\n",
       "      <td>0</td>\n",
       "      <td>0</td>\n",
       "      <td>1</td>\n",
       "      <td>...</td>\n",
       "      <td>0</td>\n",
       "      <td>0</td>\n",
       "      <td>0</td>\n",
       "      <td>26</td>\n",
       "      <td>37</td>\n",
       "      <td>1</td>\n",
       "      <td>$19,990</td>\n",
       "      <td>https://www.carvana.com/vehicle/2080019</td>\n",
       "      <td>2016</td>\n",
       "      <td>Nissan</td>\n",
       "    </tr>\n",
       "    <tr>\n",
       "      <th>1</th>\n",
       "      <td>1</td>\n",
       "      <td>Civic</td>\n",
       "      <td>LX</td>\n",
       "      <td>51210</td>\n",
       "      <td>0</td>\n",
       "      <td>0</td>\n",
       "      <td>1</td>\n",
       "      <td>0</td>\n",
       "      <td>0</td>\n",
       "      <td>0</td>\n",
       "      <td>...</td>\n",
       "      <td>0</td>\n",
       "      <td>0</td>\n",
       "      <td>0</td>\n",
       "      <td>25</td>\n",
       "      <td>36</td>\n",
       "      <td>1</td>\n",
       "      <td>$16,990</td>\n",
       "      <td>https://www.carvana.com/vehicle/2113974</td>\n",
       "      <td>2011</td>\n",
       "      <td>Honda</td>\n",
       "    </tr>\n",
       "    <tr>\n",
       "      <th>2</th>\n",
       "      <td>2</td>\n",
       "      <td>Focus</td>\n",
       "      <td>Titanium</td>\n",
       "      <td>19216</td>\n",
       "      <td>1</td>\n",
       "      <td>1</td>\n",
       "      <td>1</td>\n",
       "      <td>0</td>\n",
       "      <td>0</td>\n",
       "      <td>0</td>\n",
       "      <td>...</td>\n",
       "      <td>0</td>\n",
       "      <td>0</td>\n",
       "      <td>0</td>\n",
       "      <td>26</td>\n",
       "      <td>38</td>\n",
       "      <td>1</td>\n",
       "      <td>$21,990</td>\n",
       "      <td>https://www.carvana.com/vehicle/2168176</td>\n",
       "      <td>2016</td>\n",
       "      <td>Ford</td>\n",
       "    </tr>\n",
       "  </tbody>\n",
       "</table>\n",
       "<p>3 rows × 27 columns</p>\n",
       "</div>"
      ],
      "text/plain": [
       "   Unnamed: 0   model   details  mileage  Bluetooth  Backup Camera  \\\n",
       "0           0  Altima    2.5 SR    57543          1              1   \n",
       "1           1   Civic        LX    51210          0              0   \n",
       "2           2   Focus  Titanium    19216          1              1   \n",
       "\n",
       "   Infotainment  Screen  Navigation  Hands Free Calling  ...  V6  V8  6-Cyl  \\\n",
       "0             1       0           0                   1  ...   0   0      0   \n",
       "1             1       0           0                   0  ...   0   0      0   \n",
       "2             1       0           0                   0  ...   0   0      0   \n",
       "\n",
       "   city_mpg  highway_mpg  No Reported Accidents    price  \\\n",
       "0        26           37                      1  $19,990   \n",
       "1        25           36                      1  $16,990   \n",
       "2        26           38                      1  $21,990   \n",
       "\n",
       "                                       url  year    make  \n",
       "0  https://www.carvana.com/vehicle/2080019  2016  Nissan  \n",
       "1  https://www.carvana.com/vehicle/2113974  2011   Honda  \n",
       "2  https://www.carvana.com/vehicle/2168176  2016    Ford  \n",
       "\n",
       "[3 rows x 27 columns]"
      ]
     },
     "execution_count": 31,
     "metadata": {},
     "output_type": "execute_result"
    }
   ],
   "source": [
    "df.head(3)"
   ]
  },
  {
   "cell_type": "markdown",
   "metadata": {},
   "source": [
    "We can clean up the price column and cast it to an integer"
   ]
  },
  {
   "cell_type": "code",
   "execution_count": 32,
   "metadata": {},
   "outputs": [],
   "source": [
    "price_chars = \"$,\"\n",
    "for char in price_chars:\n",
    "    df['price'] = df.price.apply(lambda x: x.replace(char, ''))"
   ]
  },
  {
   "cell_type": "code",
   "execution_count": 33,
   "metadata": {},
   "outputs": [],
   "source": [
    "df['price'] = df.price.astype(int)"
   ]
  },
  {
   "cell_type": "code",
   "execution_count": 34,
   "metadata": {},
   "outputs": [],
   "source": [
    "df.drop('No Reported Accidents', axis=1, inplace=True)"
   ]
  },
  {
   "cell_type": "markdown",
   "metadata": {},
   "source": [
    "We can drop the 'No Reported accidents' feature, as it turns out that all cars on carvana have no reported accidents and it's unnecessary data"
   ]
  },
  {
   "cell_type": "markdown",
   "metadata": {},
   "source": [
    "Finally, we can drop the URL, as it won't be necessary in the final data though it was very convenient for removing duplicates"
   ]
  },
  {
   "cell_type": "code",
   "execution_count": 35,
   "metadata": {},
   "outputs": [],
   "source": [
    "df.drop('url', axis=1, inplace=True)"
   ]
  },
  {
   "cell_type": "code",
   "execution_count": 36,
   "metadata": {},
   "outputs": [
    {
     "name": "stdout",
     "output_type": "stream",
     "text": [
      "<class 'pandas.core.frame.DataFrame'>\n",
      "Int64Index: 7294 entries, 0 to 1978\n",
      "Data columns (total 25 columns):\n",
      " #   Column               Non-Null Count  Dtype \n",
      "---  ------               --------------  ----- \n",
      " 0   Unnamed: 0           7294 non-null   int64 \n",
      " 1   model                7294 non-null   object\n",
      " 2   details              7294 non-null   object\n",
      " 3   mileage              7294 non-null   int64 \n",
      " 4   Bluetooth            7294 non-null   int64 \n",
      " 5   Backup Camera        7294 non-null   int64 \n",
      " 6   Infotainment         7294 non-null   int64 \n",
      " 7   Screen               7294 non-null   int64 \n",
      " 8   Navigation           7294 non-null   int64 \n",
      " 9   Hands Free Calling   7294 non-null   int64 \n",
      " 10  Heated Seats         7294 non-null   int64 \n",
      " 11  Power Seat Controls  7294 non-null   int64 \n",
      " 12  Rear Air Vents       7294 non-null   int64 \n",
      " 13  Bed Liner            7294 non-null   int64 \n",
      " 14  Tow Hitch            7294 non-null   int64 \n",
      " 15  4-Cyl                7294 non-null   int64 \n",
      " 16  3-Cyl                7294 non-null   int64 \n",
      " 17  V6                   7294 non-null   int64 \n",
      " 18  V8                   7294 non-null   int64 \n",
      " 19  6-Cyl                7294 non-null   int64 \n",
      " 20  city_mpg             7294 non-null   int64 \n",
      " 21  highway_mpg          7294 non-null   int64 \n",
      " 22  price                7294 non-null   int32 \n",
      " 23  year                 7294 non-null   int64 \n",
      " 24  make                 7294 non-null   object\n",
      "dtypes: int32(1), int64(21), object(3)\n",
      "memory usage: 1.4+ MB\n"
     ]
    }
   ],
   "source": [
    "df.info()"
   ]
  },
  {
   "cell_type": "code",
   "execution_count": 37,
   "metadata": {},
   "outputs": [
    {
     "data": {
      "text/html": [
       "<div>\n",
       "<style scoped>\n",
       "    .dataframe tbody tr th:only-of-type {\n",
       "        vertical-align: middle;\n",
       "    }\n",
       "\n",
       "    .dataframe tbody tr th {\n",
       "        vertical-align: top;\n",
       "    }\n",
       "\n",
       "    .dataframe thead th {\n",
       "        text-align: right;\n",
       "    }\n",
       "</style>\n",
       "<table border=\"1\" class=\"dataframe\">\n",
       "  <thead>\n",
       "    <tr style=\"text-align: right;\">\n",
       "      <th></th>\n",
       "      <th>Unnamed: 0</th>\n",
       "      <th>model</th>\n",
       "      <th>details</th>\n",
       "      <th>mileage</th>\n",
       "      <th>Bluetooth</th>\n",
       "      <th>Backup Camera</th>\n",
       "      <th>Infotainment</th>\n",
       "      <th>Screen</th>\n",
       "      <th>Navigation</th>\n",
       "      <th>Hands Free Calling</th>\n",
       "      <th>...</th>\n",
       "      <th>4-Cyl</th>\n",
       "      <th>3-Cyl</th>\n",
       "      <th>V6</th>\n",
       "      <th>V8</th>\n",
       "      <th>6-Cyl</th>\n",
       "      <th>city_mpg</th>\n",
       "      <th>highway_mpg</th>\n",
       "      <th>price</th>\n",
       "      <th>year</th>\n",
       "      <th>make</th>\n",
       "    </tr>\n",
       "  </thead>\n",
       "  <tbody>\n",
       "    <tr>\n",
       "      <th>0</th>\n",
       "      <td>0</td>\n",
       "      <td>Altima</td>\n",
       "      <td>2.5 SR</td>\n",
       "      <td>57543</td>\n",
       "      <td>1</td>\n",
       "      <td>1</td>\n",
       "      <td>1</td>\n",
       "      <td>0</td>\n",
       "      <td>0</td>\n",
       "      <td>1</td>\n",
       "      <td>...</td>\n",
       "      <td>1</td>\n",
       "      <td>0</td>\n",
       "      <td>0</td>\n",
       "      <td>0</td>\n",
       "      <td>0</td>\n",
       "      <td>26</td>\n",
       "      <td>37</td>\n",
       "      <td>19990</td>\n",
       "      <td>2016</td>\n",
       "      <td>Nissan</td>\n",
       "    </tr>\n",
       "    <tr>\n",
       "      <th>1</th>\n",
       "      <td>1</td>\n",
       "      <td>Civic</td>\n",
       "      <td>LX</td>\n",
       "      <td>51210</td>\n",
       "      <td>0</td>\n",
       "      <td>0</td>\n",
       "      <td>1</td>\n",
       "      <td>0</td>\n",
       "      <td>0</td>\n",
       "      <td>0</td>\n",
       "      <td>...</td>\n",
       "      <td>1</td>\n",
       "      <td>0</td>\n",
       "      <td>0</td>\n",
       "      <td>0</td>\n",
       "      <td>0</td>\n",
       "      <td>25</td>\n",
       "      <td>36</td>\n",
       "      <td>16990</td>\n",
       "      <td>2011</td>\n",
       "      <td>Honda</td>\n",
       "    </tr>\n",
       "    <tr>\n",
       "      <th>2</th>\n",
       "      <td>2</td>\n",
       "      <td>Focus</td>\n",
       "      <td>Titanium</td>\n",
       "      <td>19216</td>\n",
       "      <td>1</td>\n",
       "      <td>1</td>\n",
       "      <td>1</td>\n",
       "      <td>0</td>\n",
       "      <td>0</td>\n",
       "      <td>0</td>\n",
       "      <td>...</td>\n",
       "      <td>1</td>\n",
       "      <td>0</td>\n",
       "      <td>0</td>\n",
       "      <td>0</td>\n",
       "      <td>0</td>\n",
       "      <td>26</td>\n",
       "      <td>38</td>\n",
       "      <td>21990</td>\n",
       "      <td>2016</td>\n",
       "      <td>Ford</td>\n",
       "    </tr>\n",
       "    <tr>\n",
       "      <th>3</th>\n",
       "      <td>3</td>\n",
       "      <td>Passat</td>\n",
       "      <td>1.8T Wolfsburg Edition</td>\n",
       "      <td>54167</td>\n",
       "      <td>1</td>\n",
       "      <td>0</td>\n",
       "      <td>1</td>\n",
       "      <td>0</td>\n",
       "      <td>0</td>\n",
       "      <td>1</td>\n",
       "      <td>...</td>\n",
       "      <td>1</td>\n",
       "      <td>0</td>\n",
       "      <td>0</td>\n",
       "      <td>0</td>\n",
       "      <td>0</td>\n",
       "      <td>24</td>\n",
       "      <td>34</td>\n",
       "      <td>17590</td>\n",
       "      <td>2014</td>\n",
       "      <td>Volkswagen</td>\n",
       "    </tr>\n",
       "    <tr>\n",
       "      <th>4</th>\n",
       "      <td>4</td>\n",
       "      <td>EcoSport</td>\n",
       "      <td>S</td>\n",
       "      <td>11168</td>\n",
       "      <td>1</td>\n",
       "      <td>1</td>\n",
       "      <td>1</td>\n",
       "      <td>0</td>\n",
       "      <td>0</td>\n",
       "      <td>0</td>\n",
       "      <td>...</td>\n",
       "      <td>1</td>\n",
       "      <td>0</td>\n",
       "      <td>0</td>\n",
       "      <td>0</td>\n",
       "      <td>0</td>\n",
       "      <td>23</td>\n",
       "      <td>29</td>\n",
       "      <td>23990</td>\n",
       "      <td>2021</td>\n",
       "      <td>Ford</td>\n",
       "    </tr>\n",
       "  </tbody>\n",
       "</table>\n",
       "<p>5 rows × 25 columns</p>\n",
       "</div>"
      ],
      "text/plain": [
       "   Unnamed: 0     model                 details  mileage  Bluetooth  \\\n",
       "0           0    Altima                  2.5 SR    57543          1   \n",
       "1           1     Civic                      LX    51210          0   \n",
       "2           2     Focus                Titanium    19216          1   \n",
       "3           3    Passat  1.8T Wolfsburg Edition    54167          1   \n",
       "4           4  EcoSport                       S    11168          1   \n",
       "\n",
       "   Backup Camera  Infotainment  Screen  Navigation  Hands Free Calling  ...  \\\n",
       "0              1             1       0           0                   1  ...   \n",
       "1              0             1       0           0                   0  ...   \n",
       "2              1             1       0           0                   0  ...   \n",
       "3              0             1       0           0                   1  ...   \n",
       "4              1             1       0           0                   0  ...   \n",
       "\n",
       "   4-Cyl  3-Cyl  V6  V8  6-Cyl  city_mpg  highway_mpg  price  year        make  \n",
       "0      1      0   0   0      0        26           37  19990  2016      Nissan  \n",
       "1      1      0   0   0      0        25           36  16990  2011       Honda  \n",
       "2      1      0   0   0      0        26           38  21990  2016        Ford  \n",
       "3      1      0   0   0      0        24           34  17590  2014  Volkswagen  \n",
       "4      1      0   0   0      0        23           29  23990  2021        Ford  \n",
       "\n",
       "[5 rows x 25 columns]"
      ]
     },
     "execution_count": 37,
     "metadata": {},
     "output_type": "execute_result"
    }
   ],
   "source": [
    "df.head()"
   ]
  },
  {
   "cell_type": "code",
   "execution_count": null,
   "metadata": {},
   "outputs": [],
   "source": [
    "df.drop('Unnamed: 0', axis=1, inplace=True)"
   ]
  },
  {
   "cell_type": "code",
   "execution_count": null,
   "metadata": {},
   "outputs": [],
   "source": [
    "df.reset_index(inplace=True)"
   ]
  },
  {
   "cell_type": "code",
   "execution_count": null,
   "metadata": {},
   "outputs": [],
   "source": [
    "df.drop('index', axis=1, inplace=True)"
   ]
  },
  {
   "cell_type": "markdown",
   "metadata": {},
   "source": [
    "Here I will export data for import into the next notebook which will perform EDA"
   ]
  },
  {
   "cell_type": "code",
   "execution_count": null,
   "metadata": {},
   "outputs": [],
   "source": [
    "df.to_csv(\"CarvanaClean.csv\")"
   ]
  }
 ],
 "metadata": {
  "interpreter": {
   "hash": "1e6ad00754ca8e69651cb29d1c126676779f9d95d55353a59ad2a5ce9cc5c389"
  },
  "kernelspec": {
   "display_name": "Python 3.9.5 64-bit",
   "language": "python",
   "name": "python3"
  },
  "language_info": {
   "codemirror_mode": {
    "name": "ipython",
    "version": 3
   },
   "file_extension": ".py",
   "mimetype": "text/x-python",
   "name": "python",
   "nbconvert_exporter": "python",
   "pygments_lexer": "ipython3",
   "version": "3.9.5"
  },
  "orig_nbformat": 4
 },
 "nbformat": 4,
 "nbformat_minor": 2
}
