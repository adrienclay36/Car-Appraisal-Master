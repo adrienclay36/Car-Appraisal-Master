{
 "cells": [
  {
   "cell_type": "code",
   "execution_count": 289,
   "metadata": {},
   "outputs": [],
   "source": [
    "import pandas as pd\n",
    "import numpy as np\n",
    "from sklearn.metrics import mean_absolute_error, mean_squared_error\n",
    "from sklearn.model_selection import train_test_split\n",
    "from sklearn.decomposition import PCA\n",
    "from sklearn.preprocessing import StandardScaler\n",
    "from sklearn.model_selection import RandomizedSearchCV, GridSearchCV\n",
    "from xgboost import XGBRegressor, plot_importance\n",
    "from sklearn.ensemble import RandomForestRegressor\n",
    "import matplotlib.pyplot as plt\n",
    "plt.style.use('default')\n"
   ]
  },
  {
   "cell_type": "code",
   "execution_count": 290,
   "metadata": {},
   "outputs": [],
   "source": [
    "from sklearn.model_selection import train_test_split"
   ]
  },
  {
   "cell_type": "code",
   "execution_count": 291,
   "metadata": {},
   "outputs": [],
   "source": [
    "df = pd.read_csv('CarvanaEncoded.csv')"
   ]
  },
  {
   "cell_type": "code",
   "execution_count": 292,
   "metadata": {},
   "outputs": [],
   "source": [
    "df.drop('Unnamed: 0', axis=1, inplace=True)"
   ]
  },
  {
   "cell_type": "code",
   "execution_count": 293,
   "metadata": {},
   "outputs": [
    {
     "data": {
      "text/html": [
       "<div>\n",
       "<style scoped>\n",
       "    .dataframe tbody tr th:only-of-type {\n",
       "        vertical-align: middle;\n",
       "    }\n",
       "\n",
       "    .dataframe tbody tr th {\n",
       "        vertical-align: top;\n",
       "    }\n",
       "\n",
       "    .dataframe thead th {\n",
       "        text-align: right;\n",
       "    }\n",
       "</style>\n",
       "<table border=\"1\" class=\"dataframe\">\n",
       "  <thead>\n",
       "    <tr style=\"text-align: right;\">\n",
       "      <th></th>\n",
       "      <th>mileage</th>\n",
       "      <th>Bluetooth</th>\n",
       "      <th>Backup Camera</th>\n",
       "      <th>Infotainment</th>\n",
       "      <th>Screen</th>\n",
       "      <th>Navigation</th>\n",
       "      <th>Hands Free Calling</th>\n",
       "      <th>Heated Seats</th>\n",
       "      <th>Power Seat Controls</th>\n",
       "      <th>Rear Air Vents</th>\n",
       "      <th>...</th>\n",
       "      <th>V6</th>\n",
       "      <th>V8</th>\n",
       "      <th>6-Cyl</th>\n",
       "      <th>city_mpg</th>\n",
       "      <th>highway_mpg</th>\n",
       "      <th>price</th>\n",
       "      <th>year</th>\n",
       "      <th>model_cat</th>\n",
       "      <th>details_cat</th>\n",
       "      <th>make_cat</th>\n",
       "    </tr>\n",
       "  </thead>\n",
       "  <tbody>\n",
       "    <tr>\n",
       "      <th>0</th>\n",
       "      <td>57543</td>\n",
       "      <td>1</td>\n",
       "      <td>1</td>\n",
       "      <td>1</td>\n",
       "      <td>0</td>\n",
       "      <td>0</td>\n",
       "      <td>1</td>\n",
       "      <td>0</td>\n",
       "      <td>1</td>\n",
       "      <td>0</td>\n",
       "      <td>...</td>\n",
       "      <td>0</td>\n",
       "      <td>0</td>\n",
       "      <td>0</td>\n",
       "      <td>26</td>\n",
       "      <td>37</td>\n",
       "      <td>19990</td>\n",
       "      <td>2016</td>\n",
       "      <td>43</td>\n",
       "      <td>74</td>\n",
       "      <td>28</td>\n",
       "    </tr>\n",
       "    <tr>\n",
       "      <th>1</th>\n",
       "      <td>51210</td>\n",
       "      <td>0</td>\n",
       "      <td>0</td>\n",
       "      <td>1</td>\n",
       "      <td>0</td>\n",
       "      <td>0</td>\n",
       "      <td>0</td>\n",
       "      <td>0</td>\n",
       "      <td>0</td>\n",
       "      <td>0</td>\n",
       "      <td>...</td>\n",
       "      <td>0</td>\n",
       "      <td>0</td>\n",
       "      <td>0</td>\n",
       "      <td>25</td>\n",
       "      <td>36</td>\n",
       "      <td>16990</td>\n",
       "      <td>2011</td>\n",
       "      <td>92</td>\n",
       "      <td>404</td>\n",
       "      <td>13</td>\n",
       "    </tr>\n",
       "    <tr>\n",
       "      <th>2</th>\n",
       "      <td>19216</td>\n",
       "      <td>1</td>\n",
       "      <td>1</td>\n",
       "      <td>1</td>\n",
       "      <td>0</td>\n",
       "      <td>0</td>\n",
       "      <td>0</td>\n",
       "      <td>1</td>\n",
       "      <td>1</td>\n",
       "      <td>0</td>\n",
       "      <td>...</td>\n",
       "      <td>0</td>\n",
       "      <td>0</td>\n",
       "      <td>0</td>\n",
       "      <td>26</td>\n",
       "      <td>38</td>\n",
       "      <td>21990</td>\n",
       "      <td>2016</td>\n",
       "      <td>156</td>\n",
       "      <td>687</td>\n",
       "      <td>10</td>\n",
       "    </tr>\n",
       "    <tr>\n",
       "      <th>3</th>\n",
       "      <td>54167</td>\n",
       "      <td>1</td>\n",
       "      <td>0</td>\n",
       "      <td>1</td>\n",
       "      <td>0</td>\n",
       "      <td>0</td>\n",
       "      <td>1</td>\n",
       "      <td>1</td>\n",
       "      <td>1</td>\n",
       "      <td>0</td>\n",
       "      <td>...</td>\n",
       "      <td>0</td>\n",
       "      <td>0</td>\n",
       "      <td>0</td>\n",
       "      <td>24</td>\n",
       "      <td>34</td>\n",
       "      <td>17590</td>\n",
       "      <td>2014</td>\n",
       "      <td>278</td>\n",
       "      <td>16</td>\n",
       "      <td>39</td>\n",
       "    </tr>\n",
       "    <tr>\n",
       "      <th>4</th>\n",
       "      <td>11168</td>\n",
       "      <td>1</td>\n",
       "      <td>1</td>\n",
       "      <td>1</td>\n",
       "      <td>0</td>\n",
       "      <td>0</td>\n",
       "      <td>0</td>\n",
       "      <td>0</td>\n",
       "      <td>0</td>\n",
       "      <td>0</td>\n",
       "      <td>...</td>\n",
       "      <td>0</td>\n",
       "      <td>0</td>\n",
       "      <td>0</td>\n",
       "      <td>23</td>\n",
       "      <td>29</td>\n",
       "      <td>23990</td>\n",
       "      <td>2021</td>\n",
       "      <td>124</td>\n",
       "      <td>530</td>\n",
       "      <td>10</td>\n",
       "    </tr>\n",
       "  </tbody>\n",
       "</table>\n",
       "<p>5 rows × 24 columns</p>\n",
       "</div>"
      ],
      "text/plain": [
       "   mileage  Bluetooth  Backup Camera  Infotainment  Screen  Navigation  \\\n",
       "0    57543          1              1             1       0           0   \n",
       "1    51210          0              0             1       0           0   \n",
       "2    19216          1              1             1       0           0   \n",
       "3    54167          1              0             1       0           0   \n",
       "4    11168          1              1             1       0           0   \n",
       "\n",
       "   Hands Free Calling  Heated Seats  Power Seat Controls  Rear Air Vents  ...  \\\n",
       "0                   1             0                    1               0  ...   \n",
       "1                   0             0                    0               0  ...   \n",
       "2                   0             1                    1               0  ...   \n",
       "3                   1             1                    1               0  ...   \n",
       "4                   0             0                    0               0  ...   \n",
       "\n",
       "   V6  V8  6-Cyl  city_mpg  highway_mpg  price  year  model_cat  details_cat  \\\n",
       "0   0   0      0        26           37  19990  2016         43           74   \n",
       "1   0   0      0        25           36  16990  2011         92          404   \n",
       "2   0   0      0        26           38  21990  2016        156          687   \n",
       "3   0   0      0        24           34  17590  2014        278           16   \n",
       "4   0   0      0        23           29  23990  2021        124          530   \n",
       "\n",
       "   make_cat  \n",
       "0        28  \n",
       "1        13  \n",
       "2        10  \n",
       "3        39  \n",
       "4        10  \n",
       "\n",
       "[5 rows x 24 columns]"
      ]
     },
     "execution_count": 293,
     "metadata": {},
     "output_type": "execute_result"
    }
   ],
   "source": [
    "df.head()"
   ]
  },
  {
   "cell_type": "code",
   "execution_count": 294,
   "metadata": {},
   "outputs": [],
   "source": [
    "test_rows = df[-10:]"
   ]
  },
  {
   "cell_type": "code",
   "execution_count": 295,
   "metadata": {},
   "outputs": [],
   "source": [
    "df = df[:-10]"
   ]
  },
  {
   "cell_type": "code",
   "execution_count": 296,
   "metadata": {},
   "outputs": [],
   "source": [
    "X = df.drop(['price'], axis=1)\n",
    "y = df.price"
   ]
  },
  {
   "cell_type": "code",
   "execution_count": 297,
   "metadata": {},
   "outputs": [],
   "source": [
    "X_train, X_test, y_train, y_test = train_test_split(X, y, test_size=0.3, random_state=42)"
   ]
  },
  {
   "cell_type": "code",
   "execution_count": 298,
   "metadata": {},
   "outputs": [],
   "source": [
    "xgb = XGBRegressor()"
   ]
  },
  {
   "cell_type": "code",
   "execution_count": 299,
   "metadata": {},
   "outputs": [],
   "source": [
    "from sklearn.model_selection import RepeatedKFold, cross_val_score"
   ]
  },
  {
   "cell_type": "code",
   "execution_count": 300,
   "metadata": {},
   "outputs": [],
   "source": [
    "cv = RepeatedKFold(n_splits=10, n_repeats=3, random_state=42)\n",
    "scores = cross_val_score(xgb, X_train, y_train, scoring='neg_root_mean_squared_error', cv=cv, n_jobs=-1)"
   ]
  },
  {
   "cell_type": "code",
   "execution_count": 301,
   "metadata": {},
   "outputs": [],
   "source": [
    "scores = np.absolute(scores)"
   ]
  },
  {
   "cell_type": "code",
   "execution_count": 302,
   "metadata": {},
   "outputs": [
    {
     "name": "stdout",
     "output_type": "stream",
     "text": [
      "Mean RMSE: 3291.817 (421.907)\n"
     ]
    }
   ],
   "source": [
    "print('Mean RMSE: %.3f (%.3f)' % (scores.mean(), scores.std()) )"
   ]
  },
  {
   "cell_type": "code",
   "execution_count": 303,
   "metadata": {},
   "outputs": [
    {
     "name": "stderr",
     "output_type": "stream",
     "text": [
      "c:\\Users\\abclay\\Desktop\\Car-Appraisal-Master\\venv\\lib\\site-packages\\xgboost\\data.py:262: FutureWarning: pandas.Int64Index is deprecated and will be removed from pandas in a future version. Use pandas.Index with the appropriate dtype instead.\n",
      "  elif isinstance(data.columns, (pd.Int64Index, pd.RangeIndex)):\n"
     ]
    },
    {
     "data": {
      "text/plain": [
       "XGBRegressor(base_score=0.5, booster='gbtree', colsample_bylevel=1,\n",
       "             colsample_bynode=1, colsample_bytree=1, enable_categorical=False,\n",
       "             gamma=0, gpu_id=-1, importance_type=None,\n",
       "             interaction_constraints='', learning_rate=0.300000012,\n",
       "             max_delta_step=0, max_depth=6, min_child_weight=1, missing=nan,\n",
       "             monotone_constraints='()', n_estimators=100, n_jobs=8,\n",
       "             num_parallel_tree=1, predictor='auto', random_state=0, reg_alpha=0,\n",
       "             reg_lambda=1, scale_pos_weight=1, subsample=1, tree_method='exact',\n",
       "             validate_parameters=1, verbosity=None)"
      ]
     },
     "execution_count": 303,
     "metadata": {},
     "output_type": "execute_result"
    }
   ],
   "source": [
    "xgb.fit(X_train, y_train)"
   ]
  },
  {
   "cell_type": "code",
   "execution_count": 304,
   "metadata": {},
   "outputs": [],
   "source": [
    "y_preds = xgb.predict(X_test)"
   ]
  },
  {
   "cell_type": "code",
   "execution_count": 305,
   "metadata": {},
   "outputs": [],
   "source": [
    "from sklearn.metrics import mean_squared_error, mean_absolute_error"
   ]
  },
  {
   "cell_type": "code",
   "execution_count": 306,
   "metadata": {},
   "outputs": [],
   "source": [
    "RMSE = np.sqrt(mean_squared_error(y_test, y_preds))\n",
    "MAE = mean_absolute_error(y_test, y_preds)"
   ]
  },
  {
   "cell_type": "code",
   "execution_count": 307,
   "metadata": {},
   "outputs": [
    {
     "data": {
      "text/plain": [
       "3356.7293275542515"
      ]
     },
     "execution_count": 307,
     "metadata": {},
     "output_type": "execute_result"
    }
   ],
   "source": [
    "RMSE"
   ]
  },
  {
   "cell_type": "code",
   "execution_count": 308,
   "metadata": {},
   "outputs": [
    {
     "data": {
      "text/plain": [
       "1965.3155400310213"
      ]
     },
     "execution_count": 308,
     "metadata": {},
     "output_type": "execute_result"
    }
   ],
   "source": [
    "MAE"
   ]
  },
  {
   "cell_type": "code",
   "execution_count": 309,
   "metadata": {},
   "outputs": [],
   "source": [
    "final_test_x = test_rows.drop('price', axis=1)"
   ]
  },
  {
   "cell_type": "code",
   "execution_count": 310,
   "metadata": {},
   "outputs": [
    {
     "name": "stderr",
     "output_type": "stream",
     "text": [
      "c:\\Users\\abclay\\Desktop\\Car-Appraisal-Master\\venv\\lib\\site-packages\\xgboost\\data.py:262: FutureWarning: pandas.Int64Index is deprecated and will be removed from pandas in a future version. Use pandas.Index with the appropriate dtype instead.\n",
      "  elif isinstance(data.columns, (pd.Int64Index, pd.RangeIndex)):\n"
     ]
    }
   ],
   "source": [
    "final_test_preds = xgb.predict(final_test_x)"
   ]
  },
  {
   "cell_type": "code",
   "execution_count": 311,
   "metadata": {},
   "outputs": [
    {
     "name": "stdout",
     "output_type": "stream",
     "text": [
      "For an actual price of 42990 the model predicted 39179.58203125\n",
      "The difference for this prediction is:  3810.41796875\n",
      "-------\n",
      "-------\n",
      "For an actual price of 17590 the model predicted 18256.169921875\n",
      "The difference for this prediction is:  -666.169921875\n",
      "-------\n",
      "-------\n",
      "For an actual price of 26990 the model predicted 26094.39453125\n",
      "The difference for this prediction is:  895.60546875\n",
      "-------\n",
      "-------\n",
      "For an actual price of 43990 the model predicted 46388.94140625\n",
      "The difference for this prediction is:  -2398.94140625\n",
      "-------\n",
      "-------\n",
      "For an actual price of 29590 the model predicted 30681.416015625\n",
      "The difference for this prediction is:  -1091.416015625\n",
      "-------\n",
      "-------\n",
      "For an actual price of 14990 the model predicted 16698.421875\n",
      "The difference for this prediction is:  -1708.421875\n",
      "-------\n",
      "-------\n",
      "For an actual price of 52990 the model predicted 54133.125\n",
      "The difference for this prediction is:  -1143.125\n",
      "-------\n",
      "-------\n",
      "For an actual price of 20590 the model predicted 18202.6171875\n",
      "The difference for this prediction is:  2387.3828125\n",
      "-------\n",
      "-------\n",
      "For an actual price of 31590 the model predicted 33643.5078125\n",
      "The difference for this prediction is:  -2053.5078125\n",
      "-------\n",
      "-------\n",
      "For an actual price of 22990 the model predicted 21009.39453125\n",
      "The difference for this prediction is:  1980.60546875\n",
      "-------\n",
      "-------\n"
     ]
    }
   ],
   "source": [
    "for i in range(len(final_test_x)):\n",
    "    print(f\"For an actual price of {test_rows['price'].iloc[i]} the model predicted {final_test_preds[i]}\")\n",
    "    print(\"The difference for this prediction is: \", test_rows.price.iloc[i] - final_test_preds[i])\n",
    "    print(\"-------\")\n",
    "    print(\"-------\")"
   ]
  },
  {
   "cell_type": "code",
   "execution_count": 312,
   "metadata": {},
   "outputs": [],
   "source": [
    "errors =[]\n",
    "for i in range(len(final_test_preds)):\n",
    "    difference = test_rows.price.iloc[i] - final_test_preds[i]\n",
    "    errors.append(difference)\n",
    "\n",
    "errors = np.absolute(errors)"
   ]
  },
  {
   "cell_type": "code",
   "execution_count": 313,
   "metadata": {},
   "outputs": [
    {
     "data": {
      "text/plain": [
       "1813.559375"
      ]
     },
     "execution_count": 313,
     "metadata": {},
     "output_type": "execute_result"
    }
   ],
   "source": [
    "np.mean(errors)"
   ]
  }
 ],
 "metadata": {
  "interpreter": {
   "hash": "2cb836ff139a78e7cb9ed1e99739615eaba94ac9c30636e09f68e4921ec151e3"
  },
  "kernelspec": {
   "display_name": "Python 3.10.2 ('venv': venv)",
   "language": "python",
   "name": "python3"
  },
  "language_info": {
   "codemirror_mode": {
    "name": "ipython",
    "version": 3
   },
   "file_extension": ".py",
   "mimetype": "text/x-python",
   "name": "python",
   "nbconvert_exporter": "python",
   "pygments_lexer": "ipython3",
   "version": "3.10.2"
  },
  "orig_nbformat": 4
 },
 "nbformat": 4,
 "nbformat_minor": 2
}
