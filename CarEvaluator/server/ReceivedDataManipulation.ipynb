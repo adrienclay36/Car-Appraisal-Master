{
 "cells": [
  {
   "cell_type": "code",
   "execution_count": 53,
   "metadata": {},
   "outputs": [],
   "source": [
    "import pandas as pd\n",
    "import numpy as np"
   ]
  },
  {
   "cell_type": "code",
   "execution_count": 54,
   "metadata": {},
   "outputs": [],
   "source": [
    "data = {'make_cat': 0, 'model_cat': 1, 'mileage': 23, 'city_mpg': 23, 'highway_mpg': 23, 'year': 2000, 'Bluetooth': 1, 'Backup Camera': 0, 'Infotainment': 0, 'Screen': 0, 'Navigation': 0, 'Power Seat Controls': 0, 'Rear Air Vents': 0, 'Bed Liner': 0, 'Tow Hitch': 0, 'Heated Seats': 0, 'Hands Free Calling': 1}"
   ]
  },
  {
   "cell_type": "code",
   "execution_count": 55,
   "metadata": {},
   "outputs": [],
   "source": [
    "df = pd.read_csv('../../data/CarvanaEncoded.csv')"
   ]
  },
  {
   "cell_type": "code",
   "execution_count": 56,
   "metadata": {},
   "outputs": [
    {
     "data": {
      "text/html": [
       "<div>\n",
       "<style scoped>\n",
       "    .dataframe tbody tr th:only-of-type {\n",
       "        vertical-align: middle;\n",
       "    }\n",
       "\n",
       "    .dataframe tbody tr th {\n",
       "        vertical-align: top;\n",
       "    }\n",
       "\n",
       "    .dataframe thead th {\n",
       "        text-align: right;\n",
       "    }\n",
       "</style>\n",
       "<table border=\"1\" class=\"dataframe\">\n",
       "  <thead>\n",
       "    <tr style=\"text-align: right;\">\n",
       "      <th></th>\n",
       "      <th>Unnamed: 0</th>\n",
       "      <th>mileage</th>\n",
       "      <th>Bluetooth</th>\n",
       "      <th>Backup Camera</th>\n",
       "      <th>Infotainment</th>\n",
       "      <th>Screen</th>\n",
       "      <th>Navigation</th>\n",
       "      <th>Hands Free Calling</th>\n",
       "      <th>Heated Seats</th>\n",
       "      <th>Power Seat Controls</th>\n",
       "      <th>...</th>\n",
       "      <th>V6</th>\n",
       "      <th>V8</th>\n",
       "      <th>6-Cyl</th>\n",
       "      <th>city_mpg</th>\n",
       "      <th>highway_mpg</th>\n",
       "      <th>price</th>\n",
       "      <th>year</th>\n",
       "      <th>model_cat</th>\n",
       "      <th>details_cat</th>\n",
       "      <th>make_cat</th>\n",
       "    </tr>\n",
       "  </thead>\n",
       "  <tbody>\n",
       "    <tr>\n",
       "      <th>0</th>\n",
       "      <td>0</td>\n",
       "      <td>57543</td>\n",
       "      <td>1</td>\n",
       "      <td>1</td>\n",
       "      <td>1</td>\n",
       "      <td>0</td>\n",
       "      <td>0</td>\n",
       "      <td>1</td>\n",
       "      <td>0</td>\n",
       "      <td>1</td>\n",
       "      <td>...</td>\n",
       "      <td>0</td>\n",
       "      <td>0</td>\n",
       "      <td>0</td>\n",
       "      <td>26</td>\n",
       "      <td>37</td>\n",
       "      <td>19990</td>\n",
       "      <td>2016</td>\n",
       "      <td>43</td>\n",
       "      <td>74</td>\n",
       "      <td>28</td>\n",
       "    </tr>\n",
       "    <tr>\n",
       "      <th>1</th>\n",
       "      <td>1</td>\n",
       "      <td>51210</td>\n",
       "      <td>0</td>\n",
       "      <td>0</td>\n",
       "      <td>1</td>\n",
       "      <td>0</td>\n",
       "      <td>0</td>\n",
       "      <td>0</td>\n",
       "      <td>0</td>\n",
       "      <td>0</td>\n",
       "      <td>...</td>\n",
       "      <td>0</td>\n",
       "      <td>0</td>\n",
       "      <td>0</td>\n",
       "      <td>25</td>\n",
       "      <td>36</td>\n",
       "      <td>16990</td>\n",
       "      <td>2011</td>\n",
       "      <td>92</td>\n",
       "      <td>404</td>\n",
       "      <td>13</td>\n",
       "    </tr>\n",
       "    <tr>\n",
       "      <th>2</th>\n",
       "      <td>2</td>\n",
       "      <td>19216</td>\n",
       "      <td>1</td>\n",
       "      <td>1</td>\n",
       "      <td>1</td>\n",
       "      <td>0</td>\n",
       "      <td>0</td>\n",
       "      <td>0</td>\n",
       "      <td>1</td>\n",
       "      <td>1</td>\n",
       "      <td>...</td>\n",
       "      <td>0</td>\n",
       "      <td>0</td>\n",
       "      <td>0</td>\n",
       "      <td>26</td>\n",
       "      <td>38</td>\n",
       "      <td>21990</td>\n",
       "      <td>2016</td>\n",
       "      <td>156</td>\n",
       "      <td>687</td>\n",
       "      <td>10</td>\n",
       "    </tr>\n",
       "    <tr>\n",
       "      <th>3</th>\n",
       "      <td>3</td>\n",
       "      <td>54167</td>\n",
       "      <td>1</td>\n",
       "      <td>0</td>\n",
       "      <td>1</td>\n",
       "      <td>0</td>\n",
       "      <td>0</td>\n",
       "      <td>1</td>\n",
       "      <td>1</td>\n",
       "      <td>1</td>\n",
       "      <td>...</td>\n",
       "      <td>0</td>\n",
       "      <td>0</td>\n",
       "      <td>0</td>\n",
       "      <td>24</td>\n",
       "      <td>34</td>\n",
       "      <td>17590</td>\n",
       "      <td>2014</td>\n",
       "      <td>278</td>\n",
       "      <td>16</td>\n",
       "      <td>39</td>\n",
       "    </tr>\n",
       "    <tr>\n",
       "      <th>4</th>\n",
       "      <td>4</td>\n",
       "      <td>11168</td>\n",
       "      <td>1</td>\n",
       "      <td>1</td>\n",
       "      <td>1</td>\n",
       "      <td>0</td>\n",
       "      <td>0</td>\n",
       "      <td>0</td>\n",
       "      <td>0</td>\n",
       "      <td>0</td>\n",
       "      <td>...</td>\n",
       "      <td>0</td>\n",
       "      <td>0</td>\n",
       "      <td>0</td>\n",
       "      <td>23</td>\n",
       "      <td>29</td>\n",
       "      <td>23990</td>\n",
       "      <td>2021</td>\n",
       "      <td>124</td>\n",
       "      <td>530</td>\n",
       "      <td>10</td>\n",
       "    </tr>\n",
       "  </tbody>\n",
       "</table>\n",
       "<p>5 rows × 25 columns</p>\n",
       "</div>"
      ],
      "text/plain": [
       "   Unnamed: 0  mileage  Bluetooth  Backup Camera  Infotainment  Screen  \\\n",
       "0           0    57543          1              1             1       0   \n",
       "1           1    51210          0              0             1       0   \n",
       "2           2    19216          1              1             1       0   \n",
       "3           3    54167          1              0             1       0   \n",
       "4           4    11168          1              1             1       0   \n",
       "\n",
       "   Navigation  Hands Free Calling  Heated Seats  Power Seat Controls  ...  V6  \\\n",
       "0           0                   1             0                    1  ...   0   \n",
       "1           0                   0             0                    0  ...   0   \n",
       "2           0                   0             1                    1  ...   0   \n",
       "3           0                   1             1                    1  ...   0   \n",
       "4           0                   0             0                    0  ...   0   \n",
       "\n",
       "   V8  6-Cyl  city_mpg  highway_mpg  price  year  model_cat  details_cat  \\\n",
       "0   0      0        26           37  19990  2016         43           74   \n",
       "1   0      0        25           36  16990  2011         92          404   \n",
       "2   0      0        26           38  21990  2016        156          687   \n",
       "3   0      0        24           34  17590  2014        278           16   \n",
       "4   0      0        23           29  23990  2021        124          530   \n",
       "\n",
       "   make_cat  \n",
       "0        28  \n",
       "1        13  \n",
       "2        10  \n",
       "3        39  \n",
       "4        10  \n",
       "\n",
       "[5 rows x 25 columns]"
      ]
     },
     "execution_count": 56,
     "metadata": {},
     "output_type": "execute_result"
    }
   ],
   "source": [
    "df.head()"
   ]
  },
  {
   "cell_type": "code",
   "execution_count": 57,
   "metadata": {},
   "outputs": [],
   "source": [
    "input_df = pd.DataFrame(data, index=[0])"
   ]
  },
  {
   "cell_type": "code",
   "execution_count": 58,
   "metadata": {},
   "outputs": [
    {
     "data": {
      "text/html": [
       "<div>\n",
       "<style scoped>\n",
       "    .dataframe tbody tr th:only-of-type {\n",
       "        vertical-align: middle;\n",
       "    }\n",
       "\n",
       "    .dataframe tbody tr th {\n",
       "        vertical-align: top;\n",
       "    }\n",
       "\n",
       "    .dataframe thead th {\n",
       "        text-align: right;\n",
       "    }\n",
       "</style>\n",
       "<table border=\"1\" class=\"dataframe\">\n",
       "  <thead>\n",
       "    <tr style=\"text-align: right;\">\n",
       "      <th></th>\n",
       "      <th>make_cat</th>\n",
       "      <th>model_cat</th>\n",
       "      <th>mileage</th>\n",
       "      <th>city_mpg</th>\n",
       "      <th>highway_mpg</th>\n",
       "      <th>year</th>\n",
       "      <th>Bluetooth</th>\n",
       "      <th>Backup Camera</th>\n",
       "      <th>Infotainment</th>\n",
       "      <th>Screen</th>\n",
       "      <th>Navigation</th>\n",
       "      <th>Power Seat Controls</th>\n",
       "      <th>Rear Air Vents</th>\n",
       "      <th>Bed Liner</th>\n",
       "      <th>Tow Hitch</th>\n",
       "      <th>Heated Seats</th>\n",
       "      <th>Hands Free Calling</th>\n",
       "    </tr>\n",
       "  </thead>\n",
       "  <tbody>\n",
       "    <tr>\n",
       "      <th>0</th>\n",
       "      <td>0</td>\n",
       "      <td>1</td>\n",
       "      <td>23</td>\n",
       "      <td>23</td>\n",
       "      <td>23</td>\n",
       "      <td>2000</td>\n",
       "      <td>1</td>\n",
       "      <td>0</td>\n",
       "      <td>0</td>\n",
       "      <td>0</td>\n",
       "      <td>0</td>\n",
       "      <td>0</td>\n",
       "      <td>0</td>\n",
       "      <td>0</td>\n",
       "      <td>0</td>\n",
       "      <td>0</td>\n",
       "      <td>1</td>\n",
       "    </tr>\n",
       "  </tbody>\n",
       "</table>\n",
       "</div>"
      ],
      "text/plain": [
       "   make_cat  model_cat  mileage  city_mpg  highway_mpg  year  Bluetooth  \\\n",
       "0         0          1       23        23           23  2000          1   \n",
       "\n",
       "   Backup Camera  Infotainment  Screen  Navigation  Power Seat Controls  \\\n",
       "0              0             0       0           0                    0   \n",
       "\n",
       "   Rear Air Vents  Bed Liner  Tow Hitch  Heated Seats  Hands Free Calling  \n",
       "0               0          0          0             0                   1  "
      ]
     },
     "execution_count": 58,
     "metadata": {},
     "output_type": "execute_result"
    }
   ],
   "source": [
    "input_df"
   ]
  },
  {
   "cell_type": "code",
   "execution_count": 59,
   "metadata": {},
   "outputs": [],
   "source": [
    "column_order = ['mileage',\n",
    " 'Bluetooth',\n",
    " 'Backup Camera',\n",
    " 'Infotainment',\n",
    " 'Screen',\n",
    " 'Navigation',\n",
    " 'Hands Free Calling',\n",
    " 'Heated Seats',\n",
    " 'Power Seat Controls',\n",
    " 'Rear Air Vents',\n",
    " 'Bed Liner',\n",
    " 'Tow Hitch',\n",
    " 'city_mpg',\n",
    " 'highway_mpg',\n",
    " 'year',\n",
    " 'model_cat',\n",
    " 'make_cat']"
   ]
  },
  {
   "cell_type": "code",
   "execution_count": 60,
   "metadata": {},
   "outputs": [],
   "source": [
    "input_df = input_df[column_order]"
   ]
  },
  {
   "cell_type": "code",
   "execution_count": 61,
   "metadata": {},
   "outputs": [
    {
     "data": {
      "text/html": [
       "<div>\n",
       "<style scoped>\n",
       "    .dataframe tbody tr th:only-of-type {\n",
       "        vertical-align: middle;\n",
       "    }\n",
       "\n",
       "    .dataframe tbody tr th {\n",
       "        vertical-align: top;\n",
       "    }\n",
       "\n",
       "    .dataframe thead th {\n",
       "        text-align: right;\n",
       "    }\n",
       "</style>\n",
       "<table border=\"1\" class=\"dataframe\">\n",
       "  <thead>\n",
       "    <tr style=\"text-align: right;\">\n",
       "      <th></th>\n",
       "      <th>mileage</th>\n",
       "      <th>Bluetooth</th>\n",
       "      <th>Backup Camera</th>\n",
       "      <th>Infotainment</th>\n",
       "      <th>Screen</th>\n",
       "      <th>Navigation</th>\n",
       "      <th>Hands Free Calling</th>\n",
       "      <th>Heated Seats</th>\n",
       "      <th>Power Seat Controls</th>\n",
       "      <th>Rear Air Vents</th>\n",
       "      <th>Bed Liner</th>\n",
       "      <th>Tow Hitch</th>\n",
       "      <th>city_mpg</th>\n",
       "      <th>highway_mpg</th>\n",
       "      <th>year</th>\n",
       "      <th>model_cat</th>\n",
       "      <th>make_cat</th>\n",
       "    </tr>\n",
       "  </thead>\n",
       "  <tbody>\n",
       "    <tr>\n",
       "      <th>0</th>\n",
       "      <td>23</td>\n",
       "      <td>1</td>\n",
       "      <td>0</td>\n",
       "      <td>0</td>\n",
       "      <td>0</td>\n",
       "      <td>0</td>\n",
       "      <td>1</td>\n",
       "      <td>0</td>\n",
       "      <td>0</td>\n",
       "      <td>0</td>\n",
       "      <td>0</td>\n",
       "      <td>0</td>\n",
       "      <td>23</td>\n",
       "      <td>23</td>\n",
       "      <td>2000</td>\n",
       "      <td>1</td>\n",
       "      <td>0</td>\n",
       "    </tr>\n",
       "  </tbody>\n",
       "</table>\n",
       "</div>"
      ],
      "text/plain": [
       "   mileage  Bluetooth  Backup Camera  Infotainment  Screen  Navigation  \\\n",
       "0       23          1              0             0       0           0   \n",
       "\n",
       "   Hands Free Calling  Heated Seats  Power Seat Controls  Rear Air Vents  \\\n",
       "0                   1             0                    0               0   \n",
       "\n",
       "   Bed Liner  Tow Hitch  city_mpg  highway_mpg  year  model_cat  make_cat  \n",
       "0          0          0        23           23  2000          1         0  "
      ]
     },
     "execution_count": 61,
     "metadata": {},
     "output_type": "execute_result"
    }
   ],
   "source": [
    "input_df"
   ]
  },
  {
   "cell_type": "code",
   "execution_count": 62,
   "metadata": {},
   "outputs": [],
   "source": [
    "from xgboost import XGBRegressor"
   ]
  },
  {
   "cell_type": "code",
   "execution_count": 63,
   "metadata": {},
   "outputs": [],
   "source": [
    "features_array = np.array(input_df.iloc[0])"
   ]
  },
  {
   "cell_type": "code",
   "execution_count": 64,
   "metadata": {},
   "outputs": [],
   "source": [
    "xgb = XGBRegressor()"
   ]
  },
  {
   "cell_type": "code",
   "execution_count": 65,
   "metadata": {},
   "outputs": [],
   "source": [
    "xgb.load_model('./linear_model.json')"
   ]
  },
  {
   "cell_type": "code",
   "execution_count": 66,
   "metadata": {},
   "outputs": [
    {
     "name": "stderr",
     "output_type": "stream",
     "text": [
      "c:\\Users\\abclay\\Desktop\\Car-Appraisal-Master\\venv\\lib\\site-packages\\xgboost\\data.py:262: FutureWarning: pandas.Int64Index is deprecated and will be removed from pandas in a future version. Use pandas.Index with the appropriate dtype instead.\n",
      "  elif isinstance(data.columns, (pd.Int64Index, pd.RangeIndex)):\n"
     ]
    },
    {
     "data": {
      "text/plain": [
       "array([18236.494], dtype=float32)"
      ]
     },
     "execution_count": 66,
     "metadata": {},
     "output_type": "execute_result"
    }
   ],
   "source": [
    "xgb.predict(input_df)"
   ]
  },
  {
   "cell_type": "code",
   "execution_count": null,
   "metadata": {},
   "outputs": [],
   "source": []
  }
 ],
 "metadata": {
  "interpreter": {
   "hash": "2cb836ff139a78e7cb9ed1e99739615eaba94ac9c30636e09f68e4921ec151e3"
  },
  "kernelspec": {
   "display_name": "Python 3.10.3 ('venv': venv)",
   "language": "python",
   "name": "python3"
  },
  "language_info": {
   "codemirror_mode": {
    "name": "ipython",
    "version": 3
   },
   "file_extension": ".py",
   "mimetype": "text/x-python",
   "name": "python",
   "nbconvert_exporter": "python",
   "pygments_lexer": "ipython3",
   "version": "3.10.3"
  },
  "orig_nbformat": 4
 },
 "nbformat": 4,
 "nbformat_minor": 2
}
